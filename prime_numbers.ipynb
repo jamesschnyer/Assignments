{
 "cells": [
  {
   "cell_type": "code",
   "execution_count": 6,
   "metadata": {},
   "outputs": [
    {
     "output_type": "stream",
     "name": "stdout",
     "text": "[2, 3, 5, 7, 11, 13, 17, 19, 23, 29, 31, 37, 41, 43, 47, 53, 59, 61, 67, 71, 73, 79, 83, 89, 97]\n"
    }
   ],
   "source": [
    "prime= []\n",
    "limit = int(input(\"Please enter the limit for prime numbers :\"))\n",
    "for number in range (2, limit+1):\n",
    "    status=True\n",
    "    for i in range(2, number):\n",
    "        if number % i == 0 : status = False\n",
    "    if status:\n",
    "        prime.append(number)\n",
    "print(prime)"
   ]
  }
 ],
 "metadata": {
  "language_info": {
   "codemirror_mode": {
    "name": "ipython",
    "version": 3
   },
   "file_extension": ".py",
   "mimetype": "text/x-python",
   "name": "python",
   "nbconvert_exporter": "python",
   "pygments_lexer": "ipython3",
   "version": "3.8.2-final"
  },
  "orig_nbformat": 2,
  "kernelspec": {
   "name": "python38232bitff82544d2ecb4e80a1483aadb68a595f",
   "display_name": "Python 3.8.2 32-bit"
  }
 },
 "nbformat": 4,
 "nbformat_minor": 2
}